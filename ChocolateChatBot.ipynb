{
  "nbformat": 4,
  "nbformat_minor": 0,
  "metadata": {
    "colab": {
      "name": "ChocolateChatBot.ipynb",
      "provenance": [],
      "collapsed_sections": []
    },
    "kernelspec": {
      "name": "python3",
      "display_name": "Python 3"
    },
    "language_info": {
      "name": "python"
    }
  },
  "cells": [
    {
      "cell_type": "code",
      "metadata": {
        "id": "yqkG348yhQWQ"
      },
      "source": [
        "#description: chat bot"
      ],
      "execution_count": null,
      "outputs": []
    },
    {
      "cell_type": "code",
      "metadata": {
        "colab": {
          "base_uri": "https://localhost:8080/"
        },
        "id": "scaly0Y1hy3Z",
        "outputId": "9d63c065-5334-4f22-dafe-37fc52c8c814"
      },
      "source": [
        "pip install nltk"
      ],
      "execution_count": null,
      "outputs": [
        {
          "output_type": "stream",
          "text": [
            "Requirement already satisfied: nltk in /usr/local/lib/python3.7/dist-packages (3.2.5)\n",
            "Requirement already satisfied: six in /usr/local/lib/python3.7/dist-packages (from nltk) (1.15.0)\n"
          ],
          "name": "stdout"
        }
      ]
    },
    {
      "cell_type": "code",
      "metadata": {
        "colab": {
          "base_uri": "https://localhost:8080/"
        },
        "id": "5nIRIrkoh42O",
        "outputId": "96f371e3-2c4f-4073-dbe8-622068e3745a"
      },
      "source": [
        "pip install newspaper3k"
      ],
      "execution_count": null,
      "outputs": [
        {
          "output_type": "stream",
          "text": [
            "Requirement already satisfied: newspaper3k in /usr/local/lib/python3.7/dist-packages (0.2.8)\n",
            "Requirement already satisfied: requests>=2.10.0 in /usr/local/lib/python3.7/dist-packages (from newspaper3k) (2.23.0)\n",
            "Requirement already satisfied: Pillow>=3.3.0 in /usr/local/lib/python3.7/dist-packages (from newspaper3k) (7.1.2)\n",
            "Requirement already satisfied: nltk>=3.2.1 in /usr/local/lib/python3.7/dist-packages (from newspaper3k) (3.2.5)\n",
            "Requirement already satisfied: jieba3k>=0.35.1 in /usr/local/lib/python3.7/dist-packages (from newspaper3k) (0.35.1)\n",
            "Requirement already satisfied: beautifulsoup4>=4.4.1 in /usr/local/lib/python3.7/dist-packages (from newspaper3k) (4.6.3)\n",
            "Requirement already satisfied: PyYAML>=3.11 in /usr/local/lib/python3.7/dist-packages (from newspaper3k) (3.13)\n",
            "Requirement already satisfied: python-dateutil>=2.5.3 in /usr/local/lib/python3.7/dist-packages (from newspaper3k) (2.8.1)\n",
            "Requirement already satisfied: feedparser>=5.2.1 in /usr/local/lib/python3.7/dist-packages (from newspaper3k) (6.0.8)\n",
            "Requirement already satisfied: lxml>=3.6.0 in /usr/local/lib/python3.7/dist-packages (from newspaper3k) (4.2.6)\n",
            "Requirement already satisfied: tldextract>=2.0.1 in /usr/local/lib/python3.7/dist-packages (from newspaper3k) (3.1.0)\n",
            "Requirement already satisfied: tinysegmenter==0.3 in /usr/local/lib/python3.7/dist-packages (from newspaper3k) (0.3)\n",
            "Requirement already satisfied: cssselect>=0.9.2 in /usr/local/lib/python3.7/dist-packages (from newspaper3k) (1.1.0)\n",
            "Requirement already satisfied: feedfinder2>=0.0.4 in /usr/local/lib/python3.7/dist-packages (from newspaper3k) (0.0.4)\n",
            "Requirement already satisfied: urllib3!=1.25.0,!=1.25.1,<1.26,>=1.21.1 in /usr/local/lib/python3.7/dist-packages (from requests>=2.10.0->newspaper3k) (1.24.3)\n",
            "Requirement already satisfied: chardet<4,>=3.0.2 in /usr/local/lib/python3.7/dist-packages (from requests>=2.10.0->newspaper3k) (3.0.4)\n",
            "Requirement already satisfied: certifi>=2017.4.17 in /usr/local/lib/python3.7/dist-packages (from requests>=2.10.0->newspaper3k) (2021.5.30)\n",
            "Requirement already satisfied: idna<3,>=2.5 in /usr/local/lib/python3.7/dist-packages (from requests>=2.10.0->newspaper3k) (2.10)\n",
            "Requirement already satisfied: six in /usr/local/lib/python3.7/dist-packages (from nltk>=3.2.1->newspaper3k) (1.15.0)\n",
            "Requirement already satisfied: sgmllib3k in /usr/local/lib/python3.7/dist-packages (from feedparser>=5.2.1->newspaper3k) (1.0.0)\n",
            "Requirement already satisfied: filelock>=3.0.8 in /usr/local/lib/python3.7/dist-packages (from tldextract>=2.0.1->newspaper3k) (3.0.12)\n",
            "Requirement already satisfied: requests-file>=1.4 in /usr/local/lib/python3.7/dist-packages (from tldextract>=2.0.1->newspaper3k) (1.5.1)\n"
          ],
          "name": "stdout"
        }
      ]
    },
    {
      "cell_type": "code",
      "metadata": {
        "id": "BIhzPVgyh_AO"
      },
      "source": [
        "#Import the libraries\n",
        "from newspaper import Article\n",
        "import random\n",
        "import string\n",
        "import nltk\n",
        "from sklearn.feature_extraction.text import CountVectorizer\n",
        "from sklearn.metrics.pairwise import cosine_similarity\n",
        "import numpy as np\n",
        "import warnings\n",
        "warnings.filterwarnings('ignore')"
      ],
      "execution_count": null,
      "outputs": []
    },
    {
      "cell_type": "code",
      "metadata": {
        "colab": {
          "base_uri": "https://localhost:8080/"
        },
        "id": "XO36gEb_ldcY",
        "outputId": "a6c64e05-3ae0-439f-f728-933576cf85d8"
      },
      "source": [
        "#Download the punkt package\n",
        "nltk.download('punkt', quiet=True)"
      ],
      "execution_count": null,
      "outputs": [
        {
          "output_type": "execute_result",
          "data": {
            "text/plain": [
              "True"
            ]
          },
          "metadata": {
            "tags": []
          },
          "execution_count": 216
        }
      ]
    },
    {
      "cell_type": "code",
      "metadata": {
        "id": "hiZ0THzhlzHx"
      },
      "source": [
        "#Get the article\n",
        "article = Article('https://goofy-brown-9c002f.netlify.app/')\n",
        "article.download()\n",
        "article.parse()\n",
        "article.nlp()\n",
        "corpus = article.text"
      ],
      "execution_count": null,
      "outputs": []
    },
    {
      "cell_type": "code",
      "metadata": {
        "colab": {
          "base_uri": "https://localhost:8080/"
        },
        "id": "A5NhGYwdnkiC",
        "outputId": "e5d87195-f884-4da4-8277-39b396cef262"
      },
      "source": [
        "#Print the articles text\n",
        "print(corpus)"
      ],
      "execution_count": null,
      "outputs": [
        {
          "output_type": "stream",
          "text": [
            "Chocolate is a food made from cacao beans. It is used in many desserts like pudding, cakes, candy, ice cream, and Easter eggs. It can be in a solid form like a candy bar or it can be in a liquid form like hot chocolate. Commercial chocolate has sugar and sometimes milk added. It has a melting point of about 32 °C (90 °F).\n",
            "\n",
            "Dark chocolate has less sugar, and a more bitter taste. It was originally used to make drinking chocolate. Chocolate can also make S'mores.\n",
            "\n",
            "There are three main types of chocolate: white chocolate, milk chocolate, and dark chocolate. White chocolate tastes much sweeter than the other two types, because it has more of the sweeter ingredients in it.\n",
            "\n",
            "Milk chocolate is sweet, but not as sweet as white chocolate. Milk chocolate has some cocoa.\n",
            "\n",
            "Dark chocolate is the least sweet and has the strongest chocolate flavor.\n",
            "\n",
            "Ruby chocolate is a type of chocolate created by Barry Callebaut. The variety was in development from 2004, and was released to the public in 2017. The chocolate type is made from the Ruby cocoa bean, resulting in a distinct red colour and a different flavour, described as \"sweet yet sour\".\n",
            "\n",
            "Raw chocolate is chocolate that has not been processed, heated, or mixed with other ingredients. It is sold in chocolate-growing countries, and to a much lesser extent in other countries, often promoted as healthy.Pieces of dark compound chocolate cake coating\n",
            "\n",
            "Compound chocolate is the name for a confection combining cocoa with other vegetable fat, usually tropical fats or hydrogenated fats, as a replacement for cocoa butter. It is often used for candy bar coatings. In many countries it may not legally be called \"chocolate\".\n",
            "\n",
            "Modeling chocolate is a chocolate paste made by melting chocolate and combining it with corn syrup, glucose syrup, or golden syrup. It is primarily used by cakemakers and pâtisseries to add decoration to cakes and pastries.\n",
            "\n",
            "Cocoa powder is the pulverized cocoa solids left after extracting almost all the cocoa butter. It is used to add chocolate flavour in baking, and for making chocolate drinks. There are two types of unsweetened cocoa powder: natural cocoa produced by the Broma process, with no additives, and Dutch process cocoa, which is additionally processed with alkali to neutralize its natural acidity. Natural cocoa is light in colour and somewhat acidic, and is commonly used in recipes that also use baking soda; as baking soda is an alkali, combining it with natural cocoa creates a leavening action that allows the batter to rise during baking. Dutch cocoa is slightly milder in taste, with a darker colour. It is frequently used for chocolate drinks such as hot chocolate due to its ease in blending with liquids. However, Dutch processing destroys most of the flavonoids present in cocoa.\n",
            "\n",
            "Chocolate is safe to eat unless it is eaten in large amounts. Some animals, like dogs and cats, become sick even if they eat only a little chocolate. People with diabetes can also get sick from eating chocolate. Dark chocolate contains ingredients that lower blood pressure and fight diseases. Small amounts of dark chocolate have been found to lower the risk of heart disease because of polyphenol in chocolate. It is necessary to moderate the amount of chocolate you eat.\n",
            "\n",
            "Making chocolate is a process that has many steps. First, the cocoa beans are collected and put in piles or containers to make them ferment. Fermentation makes the sugar in the beans turn into alcohol. Then the beans are dried and cleaned. Chocolate makers must cook the beans, and then crush them to make the cocoa butter and the chocolate liquor come out of them. Then the chocolate maker mixes different ingredients together to make the different kinds of chocolate. Dark or bittersweet chocolate is made from sugar, cocoa butter, and chocolate liquor. Milk chocolate uses all of those ingredients plus milk and vanilla. White chocolate does not contain chocolate liquor, but only cocoa butter, along with sugar, milk and vanilla. After these ingredients are put together, the chocolate maker is still not finished. One of the last things to be done is something called conching. Conching means crushing the chocolate very finely and keeping it warm so that it is liquid. Before chocolate is conched, it feels very rough in the mouth instead of smooth. Conches use heavy rollers that plow back and forth through the chocolate paste under regulated speeds and temperatures. Conching for several hours to several days makes good chocolate. The last step in making chocolate is called tempering. The chocolate is heated, and then shaken, and then cooled a few times.\n",
            "\n",
            "There are a number of ingredients in chocolate. The most notable of these are caffeine and theobromine. These two chemicals are closely related and are found in all cocoa beans. In any bean, the amount of each chemical varies depending on the genetics of the tree and the stresses placed on the tree during the growing season. It takes two hours to make chocolate.\n",
            "\n",
            "The cacao tree was first found to be useful for its seeds about two thousand years ago. Early Central Americans and Mexicans used the seeds from the cacao tree to make a drink that tasted bitter, not sweet. Only the important people could drink it. The word for \"chocolate\" in almost every language comes from its name in the Nahuatl language of Mexico, chocolatl.\n",
            "\n",
            "Later on, this drink was made sweeter and made into what is known today as hot chocolate. It was made popular by Spanish explorers who brought it from North America to Spain.[4] When chocolate was sweetened and made into candy, it became a very popular treat for many Europeans. At first, only the rich could afford chocolate. Now, many people enjoy it. Most cocoa today is made in Africa.\n"
          ],
          "name": "stdout"
        }
      ]
    },
    {
      "cell_type": "code",
      "metadata": {
        "id": "Rz_O7W_Unw-2"
      },
      "source": [
        "#Tokenization\n",
        "text = corpus\n",
        "sentence_list = nltk.sent_tokenize(text) #A list of sentences"
      ],
      "execution_count": null,
      "outputs": []
    },
    {
      "cell_type": "code",
      "metadata": {
        "colab": {
          "base_uri": "https://localhost:8080/"
        },
        "id": "_OZQ00mgoglz",
        "outputId": "992469c7-e13f-4e26-b24b-bccfccda58d1"
      },
      "source": [
        "#Print the list of sentences\n",
        "print(sentence_list)"
      ],
      "execution_count": null,
      "outputs": [
        {
          "output_type": "stream",
          "text": [
            "['Chocolate is a food made from cacao beans.', 'It is used in many desserts like pudding, cakes, candy, ice cream, and Easter eggs.', 'It can be in a solid form like a candy bar or it can be in a liquid form like hot chocolate.', 'Commercial chocolate has sugar and sometimes milk added.', 'It has a melting point of about 32 °C (90 °F).', 'Dark chocolate has less sugar, and a more bitter taste.', 'It was originally used to make drinking chocolate.', \"Chocolate can also make S'mores.\", 'There are three main types of chocolate: white chocolate, milk chocolate, and dark chocolate.', 'White chocolate tastes much sweeter than the other two types, because it has more of the sweeter ingredients in it.', 'Milk chocolate is sweet, but not as sweet as white chocolate.', 'Milk chocolate has some cocoa.', 'Dark chocolate is the least sweet and has the strongest chocolate flavor.', 'Ruby chocolate is a type of chocolate created by Barry Callebaut.', 'The variety was in development from 2004, and was released to the public in 2017.', 'The chocolate type is made from the Ruby cocoa bean, resulting in a distinct red colour and a different flavour, described as \"sweet yet sour\".', 'Raw chocolate is chocolate that has not been processed, heated, or mixed with other ingredients.', 'It is sold in chocolate-growing countries, and to a much lesser extent in other countries, often promoted as healthy.Pieces of dark compound chocolate cake coating\\n\\nCompound chocolate is the name for a confection combining cocoa with other vegetable fat, usually tropical fats or hydrogenated fats, as a replacement for cocoa butter.', 'It is often used for candy bar coatings.', 'In many countries it may not legally be called \"chocolate\".', 'Modeling chocolate is a chocolate paste made by melting chocolate and combining it with corn syrup, glucose syrup, or golden syrup.', 'It is primarily used by cakemakers and pâtisseries to add decoration to cakes and pastries.', 'Cocoa powder is the pulverized cocoa solids left after extracting almost all the cocoa butter.', 'It is used to add chocolate flavour in baking, and for making chocolate drinks.', 'There are two types of unsweetened cocoa powder: natural cocoa produced by the Broma process, with no additives, and Dutch process cocoa, which is additionally processed with alkali to neutralize its natural acidity.', 'Natural cocoa is light in colour and somewhat acidic, and is commonly used in recipes that also use baking soda; as baking soda is an alkali, combining it with natural cocoa creates a leavening action that allows the batter to rise during baking.', 'Dutch cocoa is slightly milder in taste, with a darker colour.', 'It is frequently used for chocolate drinks such as hot chocolate due to its ease in blending with liquids.', 'However, Dutch processing destroys most of the flavonoids present in cocoa.', 'Chocolate is safe to eat unless it is eaten in large amounts.', 'Some animals, like dogs and cats, become sick even if they eat only a little chocolate.', 'People with diabetes can also get sick from eating chocolate.', 'Dark chocolate contains ingredients that lower blood pressure and fight diseases.', 'Small amounts of dark chocolate have been found to lower the risk of heart disease because of polyphenol in chocolate.', 'It is necessary to moderate the amount of chocolate you eat.', 'Making chocolate is a process that has many steps.', 'First, the cocoa beans are collected and put in piles or containers to make them ferment.', 'Fermentation makes the sugar in the beans turn into alcohol.', 'Then the beans are dried and cleaned.', 'Chocolate makers must cook the beans, and then crush them to make the cocoa butter and the chocolate liquor come out of them.', 'Then the chocolate maker mixes different ingredients together to make the different kinds of chocolate.', 'Dark or bittersweet chocolate is made from sugar, cocoa butter, and chocolate liquor.', 'Milk chocolate uses all of those ingredients plus milk and vanilla.', 'White chocolate does not contain chocolate liquor, but only cocoa butter, along with sugar, milk and vanilla.', 'After these ingredients are put together, the chocolate maker is still not finished.', 'One of the last things to be done is something called conching.', 'Conching means crushing the chocolate very finely and keeping it warm so that it is liquid.', 'Before chocolate is conched, it feels very rough in the mouth instead of smooth.', 'Conches use heavy rollers that plow back and forth through the chocolate paste under regulated speeds and temperatures.', 'Conching for several hours to several days makes good chocolate.', 'The last step in making chocolate is called tempering.', 'The chocolate is heated, and then shaken, and then cooled a few times.', 'There are a number of ingredients in chocolate.', 'The most notable of these are caffeine and theobromine.', 'These two chemicals are closely related and are found in all cocoa beans.', 'In any bean, the amount of each chemical varies depending on the genetics of the tree and the stresses placed on the tree during the growing season.', 'It takes two hours to make chocolate.', 'The cacao tree was first found to be useful for its seeds about two thousand years ago.', 'Early Central Americans and Mexicans used the seeds from the cacao tree to make a drink that tasted bitter, not sweet.', 'Only the important people could drink it.', 'The word for \"chocolate\" in almost every language comes from its name in the Nahuatl language of Mexico, chocolatl.', 'Later on, this drink was made sweeter and made into what is known today as hot chocolate.', 'It was made popular by Spanish explorers who brought it from North America to Spain.', '[4] When chocolate was sweetened and made into candy, it became a very popular treat for many Europeans.', 'At first, only the rich could afford chocolate.', 'Now, many people enjoy it.', 'Most cocoa today is made in Africa.']\n"
          ],
          "name": "stdout"
        }
      ]
    },
    {
      "cell_type": "code",
      "metadata": {
        "id": "V3Gw0liDoqOO"
      },
      "source": [
        "#A function to return a random greeting response to a users greeting\n",
        "def greeting_response(text):\n",
        "  text = text.lower()\n",
        "\n",
        "  #Bots greeting response\n",
        "  bot_greetings = ['Hello!', 'Hi!', 'Hey!', 'Howdy!', 'Ciao!', 'Wassup!']\n",
        "  #Users greeting\n",
        "  user_greetings = ['hi', 'hey', 'hello', 'greetings', 'wassup', 'ciao',]\n",
        "\n",
        "\n",
        "  for word in text.split():\n",
        "    if word in user_greetings:\n",
        "      return random.choice(bot_greetings)"
      ],
      "execution_count": null,
      "outputs": []
    },
    {
      "cell_type": "code",
      "metadata": {
        "id": "cCVYe6jarYZ7"
      },
      "source": [
        "def index_sort(list_var):\n",
        "  lenght = len(list_var)\n",
        "  list_index = list(range(0, lenght))\n",
        "\n",
        "  x = list_var\n",
        "  for i in range(lenght):\n",
        "    for j in range(lenght):\n",
        "      if x[list_index[i]] > x[list_index[j]]:\n",
        "        #Swap\n",
        "        temp = list_index[i]\n",
        "        list_index[i] = list_index[j]\n",
        "        list_index[j] = temp\n",
        "\n",
        "  return list_index"
      ],
      "execution_count": null,
      "outputs": []
    },
    {
      "cell_type": "code",
      "metadata": {
        "id": "IkJ_sR_WqeSZ"
      },
      "source": [
        "#Create the bots response\n",
        "def bot_response(user_input):\n",
        "  user_input = user_input.lower()\n",
        "  sentence_list.append(user_input)\n",
        "  bot_response = ''\n",
        "  cm = CountVectorizer().fit_transform(sentence_list)\n",
        "  similarity_scores = cosine_similarity(cm[-1], cm)\n",
        "  similarity_scores_list = similarity_scores.flatten()\n",
        "  index = index_sort(similarity_scores_list)\n",
        "  index = index[1:]\n",
        "  response_flag = 0\n",
        "\n",
        "  j = 0\n",
        "  for i in range(len(index)):\n",
        "    if similarity_scores_list[index[1]] > 0.0:\n",
        "      bot_response = bot_response+' '+sentence_list[index[i]]\n",
        "      response_flag = 1\n",
        "      j = j+1\n",
        "    if j > 2:\n",
        "      break\n",
        "\n",
        "\n",
        "  if response_flag == 0:\n",
        "    bot_response = bot_response+' '+\"I'm sorry, I don't understand.\"\n",
        "\n",
        "  sentence_list.remove(user_input)\n",
        "\n",
        "  return bot_response"
      ],
      "execution_count": null,
      "outputs": []
    },
    {
      "cell_type": "code",
      "metadata": {
        "colab": {
          "base_uri": "https://localhost:8080/"
        },
        "id": "zikfxq4BwJWp",
        "outputId": "b17ddfb9-123d-46c1-ffbd-dbab9e514fbe"
      },
      "source": [
        "#Start the chat\n",
        "print('Chocolate Bot: I am Chocolate Bot. I will answer all your queries about Chocolate. If you want to exit, type bye.')\n",
        "\n",
        "exit_list = ['exit', 'see you later', 'bye', 'quit']\n",
        "\n",
        "while(True):\n",
        "  user_input = input()\n",
        "  if user_input.lower() in exit_list:\n",
        "    print('Chocolate Bot: Chat with you later!')\n",
        "    break\n",
        "  else:\n",
        "    if greeting_response(user_input) != None:\n",
        "      print('Chocolate Bot: '+greeting_response(user_input))\n",
        "    else:\n",
        "      print('Chocolate Bot: '+bot_response(user_input))"
      ],
      "execution_count": null,
      "outputs": [
        {
          "output_type": "stream",
          "text": [
            "Chocolate Bot: I am Chocolate Bot. I will answer all your queries about Chocolate. If you want to exit, type bye.\n",
            "chocolate\n",
            "Chocolate Bot:  There are three main types of chocolate: white chocolate, milk chocolate, and dark chocolate. Ruby chocolate is a type of chocolate created by Barry Callebaut. Modeling chocolate is a chocolate paste made by melting chocolate and combining it with corn syrup, glucose syrup, or golden syrup.\n",
            "is chocolate safe\n",
            "Chocolate Bot:  Chocolate is safe to eat unless it is eaten in large amounts. Ruby chocolate is a type of chocolate created by Barry Callebaut. There are three main types of chocolate: white chocolate, milk chocolate, and dark chocolate.\n",
            "later on\n",
            "Chocolate Bot:  Later on, this drink was made sweeter and made into what is known today as hot chocolate. In any bean, the amount of each chemical varies depending on the genetics of the tree and the stresses placed on the tree during the growing season. Commercial chocolate has sugar and sometimes milk added.\n",
            "can chocolate be a sweet drink\n",
            "Chocolate Bot:  Milk chocolate is sweet, but not as sweet as white chocolate. It can be in a solid form like a candy bar or it can be in a liquid form like hot chocolate. Chocolate can also make S'mores.\n",
            "what is chocolate\n",
            "Chocolate Bot:  Ruby chocolate is a type of chocolate created by Barry Callebaut. Chocolate is safe to eat unless it is eaten in large amounts. There are three main types of chocolate: white chocolate, milk chocolate, and dark chocolate.\n",
            "chocolate history\n",
            "Chocolate Bot:  There are three main types of chocolate: white chocolate, milk chocolate, and dark chocolate. Ruby chocolate is a type of chocolate created by Barry Callebaut. Modeling chocolate is a chocolate paste made by melting chocolate and combining it with corn syrup, glucose syrup, or golden syrup.\n",
            "what is chocolate\n",
            "Chocolate Bot:  Ruby chocolate is a type of chocolate created by Barry Callebaut. Chocolate is safe to eat unless it is eaten in large amounts. There are three main types of chocolate: white chocolate, milk chocolate, and dark chocolate.\n",
            "chocolate\n",
            "Chocolate Bot:  There are three main types of chocolate: white chocolate, milk chocolate, and dark chocolate. Ruby chocolate is a type of chocolate created by Barry Callebaut. Modeling chocolate is a chocolate paste made by melting chocolate and combining it with corn syrup, glucose syrup, or golden syrup.\n",
            "spanish\n",
            "Chocolate Bot:  I'm sorry, I don't understand.\n",
            "spanish explorers\n",
            "Chocolate Bot:  I'm sorry, I don't understand.\n",
            "drink\n",
            "Chocolate Bot:  Only the important people could drink it. Later on, this drink was made sweeter and made into what is known today as hot chocolate. Early Central Americans and Mexicans used the seeds from the cacao tree to make a drink that tasted bitter, not sweet.\n",
            "Chocolate Bot: Chat with you later!\n"
          ],
          "name": "stdout"
        }
      ]
    }
  ]
}